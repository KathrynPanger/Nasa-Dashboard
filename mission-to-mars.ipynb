{
 "cells": [
  {
   "cell_type": "code",
   "execution_count": 265,
   "metadata": {},
   "outputs": [],
   "source": [
    "from bs4 import BeautifulSoup\n",
    "import requests\n",
    "from splinter import Browser\n",
    "from selenium import webdriver\n",
    "from selenium.webdriver.common.keys import Keys\n",
    "import pandas as pd"
   ]
  },
  {
   "cell_type": "code",
   "execution_count": 120,
   "metadata": {},
   "outputs": [],
   "source": [
    "driver=webdriver.Chrome('chromedriver.exe')"
   ]
  },
  {
   "cell_type": "code",
   "execution_count": 126,
   "metadata": {},
   "outputs": [],
   "source": [
    "url2=\"https://mars.nasa.gov/news/?page=0&per_page=40&order=publish_date+desc%2Ccreated_at+desc&search=&category=19%2C165%2C184%2C204&blank_scope=Latest\""
   ]
  },
  {
   "cell_type": "code",
   "execution_count": 2,
   "metadata": {},
   "outputs": [],
   "source": [
    "url='https://mars.nasa.gov/news/?page=0&per_page=40&order=publish_date+desc%2Ccreated_at+desc&search=&category=19%2C165%2C184%2C204&blank_scope=Latest'"
   ]
  },
  {
   "cell_type": "code",
   "execution_count": 121,
   "metadata": {},
   "outputs": [],
   "source": [
    "driver.get(url)"
   ]
  },
  {
   "cell_type": "code",
   "execution_count": 3,
   "metadata": {},
   "outputs": [],
   "source": [
    "response=requests.get(url)"
   ]
  },
  {
   "cell_type": "code",
   "execution_count": 4,
   "metadata": {},
   "outputs": [],
   "source": [
    "soup=BeautifulSoup(response.text,'html.parser')"
   ]
  },
  {
   "cell_type": "code",
   "execution_count": 5,
   "metadata": {},
   "outputs": [
    {
     "name": "stdout",
     "output_type": "stream",
     "text": [
      "\n",
      "\n",
      "The Launch Is Approaching for NASA's Next Mars Rover, Perseverance\n",
      "\n",
      "\n",
      "\n",
      "\n",
      "NASA to Hold Mars 2020 Perseverance Rover Launch Briefing\n",
      "\n",
      "\n",
      "\n",
      "\n",
      "Alabama High School Student Names NASA's Mars Helicopter\n",
      "\n",
      "\n",
      "\n",
      "\n",
      "Mars Helicopter Attached to NASA's Perseverance Rover\n",
      "\n",
      "\n",
      "\n",
      "\n",
      "NASA's Perseverance Mars Rover Gets Its Wheels and Air Brakes\n",
      "\n",
      "\n",
      "\n",
      "\n",
      "10.9 Million Names Now Aboard NASA's Perseverance Mars Rover\n",
      "\n",
      "\n"
     ]
    }
   ],
   "source": [
    "for i in range(0,6):\n",
    "    results=soup.find_all('div', class_='content_title')[i].text\n",
    "    print(results)"
   ]
  },
  {
   "cell_type": "code",
   "execution_count": 6,
   "metadata": {},
   "outputs": [],
   "source": [
    "\n",
    "results=soup.find_all('div', class_='rollover_description_inner')[i].text"
   ]
  },
  {
   "cell_type": "code",
   "execution_count": 7,
   "metadata": {},
   "outputs": [
    {
     "name": "stdout",
     "output_type": "stream",
     "text": [
      "\n",
      "The Red Planet's surface has been visited by eight NASA spacecraft. The ninth will be the first that includes a roundtrip ticket in its flight plan. \n",
      "\n",
      "\n",
      "Learn more about the agency's next Red Planet mission during a live event on June 17.\n",
      "\n",
      "\n",
      "Vaneeza Rupani's essay was chosen as the name for the small spacecraft, which will mark NASA's first attempt at powered flight on another planet.\n",
      "\n",
      "\n",
      "The team also fueled the rover's sky crane to get ready for this summer's history-making launch.\n",
      "\n",
      "\n",
      "After the rover was shipped from JPL to Kennedy Space Center, the team is getting closer to finalizing the spacecraft for launch later this summer.\n",
      "\n",
      "\n",
      "As part of NASA's 'Send Your Name to Mars' campaign, they've been stenciled onto three microchips along with essays from NASA's 'Name the Rover' contest. Next stop: Mars.\n",
      "\n"
     ]
    }
   ],
   "source": [
    "for i in range(0,6):\n",
    "    results=soup.find_all('div', class_='rollover_description_inner')[i].text\n",
    "    print(results)"
   ]
  },
  {
   "cell_type": "code",
   "execution_count": 115,
   "metadata": {},
   "outputs": [
    {
     "ename": "TypeError",
     "evalue": "expected str, bytes or os.PathLike object, not dict",
     "output_type": "error",
     "traceback": [
      "\u001b[1;31m---------------------------------------------------------------------------\u001b[0m",
      "\u001b[1;31mFileNotFoundError\u001b[0m                         Traceback (most recent call last)",
      "\u001b[1;32m~\\.conda\\envs\\PythonDataViz\\lib\\site-packages\\selenium\\webdriver\\common\\service.py\u001b[0m in \u001b[0;36mstart\u001b[1;34m(self)\u001b[0m\n\u001b[0;32m     75\u001b[0m                                             \u001b[0mstderr\u001b[0m\u001b[1;33m=\u001b[0m\u001b[0mself\u001b[0m\u001b[1;33m.\u001b[0m\u001b[0mlog_file\u001b[0m\u001b[1;33m,\u001b[0m\u001b[1;33m\u001b[0m\u001b[1;33m\u001b[0m\u001b[0m\n\u001b[1;32m---> 76\u001b[1;33m                                             stdin=PIPE)\n\u001b[0m\u001b[0;32m     77\u001b[0m         \u001b[1;32mexcept\u001b[0m \u001b[0mTypeError\u001b[0m\u001b[1;33m:\u001b[0m\u001b[1;33m\u001b[0m\u001b[1;33m\u001b[0m\u001b[0m\n",
      "\u001b[1;32m~\\.conda\\envs\\PythonDataViz\\lib\\subprocess.py\u001b[0m in \u001b[0;36m__init__\u001b[1;34m(self, args, bufsize, executable, stdin, stdout, stderr, preexec_fn, close_fds, shell, cwd, env, universal_newlines, startupinfo, creationflags, restore_signals, start_new_session, pass_fds, encoding, errors)\u001b[0m\n\u001b[0;32m    728\u001b[0m                                 \u001b[0merrread\u001b[0m\u001b[1;33m,\u001b[0m \u001b[0merrwrite\u001b[0m\u001b[1;33m,\u001b[0m\u001b[1;33m\u001b[0m\u001b[1;33m\u001b[0m\u001b[0m\n\u001b[1;32m--> 729\u001b[1;33m                                 restore_signals, start_new_session)\n\u001b[0m\u001b[0;32m    730\u001b[0m         \u001b[1;32mexcept\u001b[0m\u001b[1;33m:\u001b[0m\u001b[1;33m\u001b[0m\u001b[1;33m\u001b[0m\u001b[0m\n",
      "\u001b[1;32m~\\.conda\\envs\\PythonDataViz\\lib\\subprocess.py\u001b[0m in \u001b[0;36m_execute_child\u001b[1;34m(self, args, executable, preexec_fn, close_fds, pass_fds, cwd, env, startupinfo, creationflags, shell, p2cread, p2cwrite, c2pread, c2pwrite, errread, errwrite, unused_restore_signals, unused_start_new_session)\u001b[0m\n\u001b[0;32m   1016\u001b[0m                                          \u001b[0mos\u001b[0m\u001b[1;33m.\u001b[0m\u001b[0mfspath\u001b[0m\u001b[1;33m(\u001b[0m\u001b[0mcwd\u001b[0m\u001b[1;33m)\u001b[0m \u001b[1;32mif\u001b[0m \u001b[0mcwd\u001b[0m \u001b[1;32mis\u001b[0m \u001b[1;32mnot\u001b[0m \u001b[1;32mNone\u001b[0m \u001b[1;32melse\u001b[0m \u001b[1;32mNone\u001b[0m\u001b[1;33m,\u001b[0m\u001b[1;33m\u001b[0m\u001b[1;33m\u001b[0m\u001b[0m\n\u001b[1;32m-> 1017\u001b[1;33m                                          startupinfo)\n\u001b[0m\u001b[0;32m   1018\u001b[0m             \u001b[1;32mfinally\u001b[0m\u001b[1;33m:\u001b[0m\u001b[1;33m\u001b[0m\u001b[1;33m\u001b[0m\u001b[0m\n",
      "\u001b[1;31mFileNotFoundError\u001b[0m: [WinError 2] The system cannot find the file specified",
      "\nDuring handling of the above exception, another exception occurred:\n",
      "\u001b[1;31mTypeError\u001b[0m                                 Traceback (most recent call last)",
      "\u001b[1;32m<ipython-input-115-7d2649cfa24d>\u001b[0m in \u001b[0;36m<module>\u001b[1;34m\u001b[0m\n\u001b[0;32m      1\u001b[0m \u001b[0mexecutable_path\u001b[0m \u001b[1;33m=\u001b[0m \u001b[1;33m{\u001b[0m\u001b[1;34m'executable_path'\u001b[0m\u001b[1;33m:\u001b[0m \u001b[1;34m'chromedriver.exe'\u001b[0m\u001b[1;33m}\u001b[0m\u001b[1;33m\u001b[0m\u001b[1;33m\u001b[0m\u001b[0m\n\u001b[0;32m      2\u001b[0m \u001b[0mbrowser\u001b[0m \u001b[1;33m=\u001b[0m \u001b[0mBrowser\u001b[0m\u001b[1;33m(\u001b[0m\u001b[1;34m'chrome'\u001b[0m\u001b[1;33m,\u001b[0m \u001b[1;33m**\u001b[0m\u001b[0mexecutable_path\u001b[0m\u001b[1;33m,\u001b[0m \u001b[0mheadless\u001b[0m\u001b[1;33m=\u001b[0m\u001b[1;32mFalse\u001b[0m\u001b[1;33m)\u001b[0m\u001b[1;33m\u001b[0m\u001b[1;33m\u001b[0m\u001b[0m\n\u001b[1;32m----> 3\u001b[1;33m \u001b[0mdriver\u001b[0m\u001b[1;33m=\u001b[0m\u001b[0mwebdriver\u001b[0m\u001b[1;33m.\u001b[0m\u001b[0mChrome\u001b[0m\u001b[1;33m(\u001b[0m\u001b[0mexecutable_path\u001b[0m\u001b[1;33m)\u001b[0m\u001b[1;33m\u001b[0m\u001b[1;33m\u001b[0m\u001b[0m\n\u001b[0m",
      "\u001b[1;32m~\\.conda\\envs\\PythonDataViz\\lib\\site-packages\\selenium\\webdriver\\chrome\\webdriver.py\u001b[0m in \u001b[0;36m__init__\u001b[1;34m(self, executable_path, port, options, service_args, desired_capabilities, service_log_path, chrome_options, keep_alive)\u001b[0m\n\u001b[0;32m     71\u001b[0m             \u001b[0mservice_args\u001b[0m\u001b[1;33m=\u001b[0m\u001b[0mservice_args\u001b[0m\u001b[1;33m,\u001b[0m\u001b[1;33m\u001b[0m\u001b[1;33m\u001b[0m\u001b[0m\n\u001b[0;32m     72\u001b[0m             log_path=service_log_path)\n\u001b[1;32m---> 73\u001b[1;33m         \u001b[0mself\u001b[0m\u001b[1;33m.\u001b[0m\u001b[0mservice\u001b[0m\u001b[1;33m.\u001b[0m\u001b[0mstart\u001b[0m\u001b[1;33m(\u001b[0m\u001b[1;33m)\u001b[0m\u001b[1;33m\u001b[0m\u001b[1;33m\u001b[0m\u001b[0m\n\u001b[0m\u001b[0;32m     74\u001b[0m \u001b[1;33m\u001b[0m\u001b[0m\n\u001b[0;32m     75\u001b[0m         \u001b[1;32mtry\u001b[0m\u001b[1;33m:\u001b[0m\u001b[1;33m\u001b[0m\u001b[1;33m\u001b[0m\u001b[0m\n",
      "\u001b[1;32m~\\.conda\\envs\\PythonDataViz\\lib\\site-packages\\selenium\\webdriver\\common\\service.py\u001b[0m in \u001b[0;36mstart\u001b[1;34m(self)\u001b[0m\n\u001b[0;32m     81\u001b[0m                 raise WebDriverException(\n\u001b[0;32m     82\u001b[0m                     \"'%s' executable needs to be in PATH. %s\" % (\n\u001b[1;32m---> 83\u001b[1;33m                         os.path.basename(self.path), self.start_error_message)\n\u001b[0m\u001b[0;32m     84\u001b[0m                 )\n\u001b[0;32m     85\u001b[0m             \u001b[1;32melif\u001b[0m \u001b[0merr\u001b[0m\u001b[1;33m.\u001b[0m\u001b[0merrno\u001b[0m \u001b[1;33m==\u001b[0m \u001b[0merrno\u001b[0m\u001b[1;33m.\u001b[0m\u001b[0mEACCES\u001b[0m\u001b[1;33m:\u001b[0m\u001b[1;33m\u001b[0m\u001b[1;33m\u001b[0m\u001b[0m\n",
      "\u001b[1;32m~\\.conda\\envs\\PythonDataViz\\lib\\ntpath.py\u001b[0m in \u001b[0;36mbasename\u001b[1;34m(p)\u001b[0m\n\u001b[0;32m    234\u001b[0m \u001b[1;32mdef\u001b[0m \u001b[0mbasename\u001b[0m\u001b[1;33m(\u001b[0m\u001b[0mp\u001b[0m\u001b[1;33m)\u001b[0m\u001b[1;33m:\u001b[0m\u001b[1;33m\u001b[0m\u001b[1;33m\u001b[0m\u001b[0m\n\u001b[0;32m    235\u001b[0m     \u001b[1;34m\"\"\"Returns the final component of a pathname\"\"\"\u001b[0m\u001b[1;33m\u001b[0m\u001b[1;33m\u001b[0m\u001b[0m\n\u001b[1;32m--> 236\u001b[1;33m     \u001b[1;32mreturn\u001b[0m \u001b[0msplit\u001b[0m\u001b[1;33m(\u001b[0m\u001b[0mp\u001b[0m\u001b[1;33m)\u001b[0m\u001b[1;33m[\u001b[0m\u001b[1;36m1\u001b[0m\u001b[1;33m]\u001b[0m\u001b[1;33m\u001b[0m\u001b[1;33m\u001b[0m\u001b[0m\n\u001b[0m\u001b[0;32m    237\u001b[0m \u001b[1;33m\u001b[0m\u001b[0m\n\u001b[0;32m    238\u001b[0m \u001b[1;33m\u001b[0m\u001b[0m\n",
      "\u001b[1;32m~\\.conda\\envs\\PythonDataViz\\lib\\ntpath.py\u001b[0m in \u001b[0;36msplit\u001b[1;34m(p)\u001b[0m\n\u001b[0;32m    203\u001b[0m     \u001b[0mReturn\u001b[0m \u001b[0mtuple\u001b[0m \u001b[1;33m(\u001b[0m\u001b[0mhead\u001b[0m\u001b[1;33m,\u001b[0m \u001b[0mtail\u001b[0m\u001b[1;33m)\u001b[0m \u001b[0mwhere\u001b[0m \u001b[0mtail\u001b[0m \u001b[1;32mis\u001b[0m \u001b[0meverything\u001b[0m \u001b[0mafter\u001b[0m \u001b[0mthe\u001b[0m \u001b[0mfinal\u001b[0m \u001b[0mslash\u001b[0m\u001b[1;33m.\u001b[0m\u001b[1;33m\u001b[0m\u001b[1;33m\u001b[0m\u001b[0m\n\u001b[0;32m    204\u001b[0m     Either part may be empty.\"\"\"\n\u001b[1;32m--> 205\u001b[1;33m     \u001b[0mp\u001b[0m \u001b[1;33m=\u001b[0m \u001b[0mos\u001b[0m\u001b[1;33m.\u001b[0m\u001b[0mfspath\u001b[0m\u001b[1;33m(\u001b[0m\u001b[0mp\u001b[0m\u001b[1;33m)\u001b[0m\u001b[1;33m\u001b[0m\u001b[1;33m\u001b[0m\u001b[0m\n\u001b[0m\u001b[0;32m    206\u001b[0m     \u001b[0mseps\u001b[0m \u001b[1;33m=\u001b[0m \u001b[0m_get_bothseps\u001b[0m\u001b[1;33m(\u001b[0m\u001b[0mp\u001b[0m\u001b[1;33m)\u001b[0m\u001b[1;33m\u001b[0m\u001b[1;33m\u001b[0m\u001b[0m\n\u001b[0;32m    207\u001b[0m     \u001b[0md\u001b[0m\u001b[1;33m,\u001b[0m \u001b[0mp\u001b[0m \u001b[1;33m=\u001b[0m \u001b[0msplitdrive\u001b[0m\u001b[1;33m(\u001b[0m\u001b[0mp\u001b[0m\u001b[1;33m)\u001b[0m\u001b[1;33m\u001b[0m\u001b[1;33m\u001b[0m\u001b[0m\n",
      "\u001b[1;31mTypeError\u001b[0m: expected str, bytes or os.PathLike object, not dict"
     ]
    }
   ],
   "source": [
    "executable_path = {'executable_path': 'chromedriver.exe'}\n",
    "browser = Browser('chrome', **executable_path, headless=False)\n",
    "driver=webdriver.Chrome(executable_path)"
   ]
  },
  {
   "cell_type": "code",
   "execution_count": null,
   "metadata": {},
   "outputs": [],
   "source": [
    "druver,."
   ]
  },
  {
   "cell_type": "code",
   "execution_count": 122,
   "metadata": {},
   "outputs": [],
   "source": [
    "browser.visit('https://www.jpl.nasa.gov/spaceimages/?search=&category=Mars')\n"
   ]
  },
  {
   "cell_type": "code",
   "execution_count": 133,
   "metadata": {},
   "outputs": [],
   "source": [
    "#search=driver.find_element_by_name(\"p\")"
   ]
  },
  {
   "cell_type": "code",
   "execution_count": 111,
   "metadata": {},
   "outputs": [],
   "source": [
    "#this cell returns an error, but it still works!\n",
    "picbox=browser.links.find_by_partial_text('FULL IMAGE')\n",
    "picbox=browser.links.find_by_partial_text('FULL IMAGE').click()"
   ]
  },
  {
   "cell_type": "code",
   "execution_count": 112,
   "metadata": {},
   "outputs": [],
   "source": [
    "picbox"
   ]
  },
  {
   "cell_type": "code",
   "execution_count": null,
   "metadata": {},
   "outputs": [],
   "source": [
    "response=requests.get(url)"
   ]
  },
  {
   "cell_type": "code",
   "execution_count": null,
   "metadata": {},
   "outputs": [],
   "source": [
    "print (driver.url)"
   ]
  },
  {
   "cell_type": "code",
   "execution_count": 81,
   "metadata": {},
   "outputs": [],
   "source": [
    "links=soup.find_all('a')\n",
    "linklist=[]\n",
    "for link in links:\n",
    "    if \"nasa\" in link.text.lower():\n",
    "        #print(link)\n",
    "        item=(link.attrs['href'])\n",
    "        linklist.append(item)"
   ]
  },
  {
   "cell_type": "code",
   "execution_count": 82,
   "metadata": {},
   "outputs": [
    {
     "data": {
      "text/plain": [
       "['http://www.nasa.gov',\n",
       " 'https://science.nasa.gov/',\n",
       " '/news/8695/the-launch-is-approaching-for-nasas-next-mars-rover-perseverance/',\n",
       " '/news/8695/the-launch-is-approaching-for-nasas-next-mars-rover-perseverance/',\n",
       " '/news/8692/nasa-to-hold-mars-2020-perseverance-rover-launch-briefing/',\n",
       " '/news/8659/alabama-high-school-student-names-nasas-mars-helicopter/',\n",
       " '/news/8659/alabama-high-school-student-names-nasas-mars-helicopter/',\n",
       " '/news/8645/mars-helicopter-attached-to-nasas-perseverance-rover/',\n",
       " '/news/8641/nasas-perseverance-mars-rover-gets-its-wheels-and-air-brakes/',\n",
       " '/news/8634/109-million-names-now-aboard-nasas-perseverance-mars-rover/',\n",
       " '/news/8634/109-million-names-now-aboard-nasas-perseverance-mars-rover/',\n",
       " 'http://science.nasa.gov/']"
      ]
     },
     "execution_count": 82,
     "metadata": {},
     "output_type": "execute_result"
    }
   ],
   "source": [
    "linklist"
   ]
  },
  {
   "cell_type": "code",
   "execution_count": 78,
   "metadata": {},
   "outputs": [],
   "source": [
    "results=soup.find(\"a\")\n",
    "src=results.content"
   ]
  },
  {
   "cell_type": "code",
   "execution_count": 106,
   "metadata": {},
   "outputs": [
    {
     "name": "stdout",
     "output_type": "stream",
     "text": [
      "{'alt': \"The Launch Is Approaching for NASA's Next Mars Rover, Perseverance\", 'class': ['img-lazy'], 'data-lazy': '/system/news_items/list_view_images/8695_24732_PIA23499-226.jpg', 'src': '/assets/loading_320x240.png'}\n"
     ]
    }
   ],
   "source": [
    "#response.content\n",
    "#print (soup.p.name)\n",
    "tag=soup.find_all('img')[2]\n",
    "#print(tag['data-lazy'])\n",
    "print(tag.attrs)"
   ]
  },
  {
   "cell_type": "code",
   "execution_count": 127,
   "metadata": {},
   "outputs": [],
   "source": [
    "#tag=soup.find_all('div')\n",
    "#tag"
   ]
  },
  {
   "cell_type": "code",
   "execution_count": null,
   "metadata": {},
   "outputs": [],
   "source": [
    "nasaresponse=requests.get('https://www.jpl.nasa.gov/spaceimages/?search=&category=Mars')"
   ]
  },
  {
   "cell_type": "code",
   "execution_count": null,
   "metadata": {},
   "outputs": [],
   "source": [
    "Nsoup=BeautifulSoup(nasaresponse.text,'html.parser')"
   ]
  },
  {
   "cell_type": "code",
   "execution_count": 42,
   "metadata": {},
   "outputs": [],
   "source": [
    "pic=browser.find_by_id(\"full_image\")\n",
    "pic.click()"
   ]
  },
  {
   "cell_type": "code",
   "execution_count": 45,
   "metadata": {},
   "outputs": [
    {
     "name": "stdout",
     "output_type": "stream",
     "text": [
      "None\n"
     ]
    }
   ],
   "source": [
    "print(soup.find(\"a\", class_=\"fancybox-image\"))"
   ]
  },
  {
   "cell_type": "code",
   "execution_count": 129,
   "metadata": {},
   "outputs": [],
   "source": [
    "response2=requests.get(url2)"
   ]
  },
  {
   "cell_type": "code",
   "execution_count": 130,
   "metadata": {},
   "outputs": [],
   "source": [
    "soup2=BeautifulSoup(response2.text,'html.parser')"
   ]
  },
  {
   "cell_type": "code",
   "execution_count": 136,
   "metadata": {},
   "outputs": [
    {
     "name": "stdout",
     "output_type": "stream",
     "text": [
      "\n",
      "\n",
      "The Launch Is Approaching for NASA's Next Mars Rover, Perseverance\n",
      "\n",
      "\n",
      "\n",
      "\n",
      "NASA to Hold Mars 2020 Perseverance Rover Launch Briefing\n",
      "\n",
      "\n",
      "\n",
      "\n",
      "Alabama High School Student Names NASA's Mars Helicopter\n",
      "\n",
      "\n",
      "\n",
      "\n",
      "Mars Helicopter Attached to NASA's Perseverance Rover\n",
      "\n",
      "\n",
      "\n",
      "\n",
      "NASA's Perseverance Mars Rover Gets Its Wheels and Air Brakes\n",
      "\n",
      "\n",
      "\n",
      "\n",
      "10.9 Million Names Now Aboard NASA's Perseverance Mars Rover\n",
      "\n",
      "\n"
     ]
    }
   ],
   "source": [
    "stories=soup2.find_all(\"div\", class_=\"content_title\")\n",
    "linklist=[]\n",
    "for story in stories:\n",
    "    print (story.text)"
   ]
  },
  {
   "cell_type": "code",
   "execution_count": 160,
   "metadata": {},
   "outputs": [],
   "source": [
    "browser= webdriver.Chrome('chromedriver.exe')\n",
    "browser.get('https://www.jpl.nasa.gov/spaceimages/?search=&category=Mars')\n"
   ]
  },
  {
   "cell_type": "code",
   "execution_count": 161,
   "metadata": {},
   "outputs": [
    {
     "ename": "AttributeError",
     "evalue": "'WebDriver' object has no attribute 'links'",
     "output_type": "error",
     "traceback": [
      "\u001b[1;31m---------------------------------------------------------------------------\u001b[0m",
      "\u001b[1;31mAttributeError\u001b[0m                            Traceback (most recent call last)",
      "\u001b[1;32m<ipython-input-161-8fbeec083d67>\u001b[0m in \u001b[0;36m<module>\u001b[1;34m\u001b[0m\n\u001b[1;32m----> 1\u001b[1;33m \u001b[0mpicbox\u001b[0m\u001b[1;33m=\u001b[0m\u001b[0mbrowser\u001b[0m\u001b[1;33m.\u001b[0m\u001b[0mlinks\u001b[0m\u001b[1;33m.\u001b[0m\u001b[0mfind_by_partial_text\u001b[0m\u001b[1;33m(\u001b[0m\u001b[1;34m'FULL IMAGE'\u001b[0m\u001b[1;33m)\u001b[0m\u001b[1;33m.\u001b[0m\u001b[0mclick\u001b[0m\u001b[1;33m(\u001b[0m\u001b[1;33m)\u001b[0m\u001b[1;33m\u001b[0m\u001b[1;33m\u001b[0m\u001b[0m\n\u001b[0m",
      "\u001b[1;31mAttributeError\u001b[0m: 'WebDriver' object has no attribute 'links'"
     ]
    }
   ],
   "source": [
    "picbox=browser.links.find_by_partial_text('FULL IMAGE').click()"
   ]
  },
  {
   "cell_type": "code",
   "execution_count": 163,
   "metadata": {},
   "outputs": [],
   "source": [
    "button=browser.find_element_by_link_text(\"FULL IMAGE\")"
   ]
  },
  {
   "cell_type": "code",
   "execution_count": 164,
   "metadata": {},
   "outputs": [],
   "source": [
    "button.click()"
   ]
  },
  {
   "cell_type": "code",
   "execution_count": 165,
   "metadata": {},
   "outputs": [],
   "source": [
    "items=browser.find_element_by_class_name(\"fancybox-expand\")"
   ]
  },
  {
   "cell_type": "code",
   "execution_count": 157,
   "metadata": {},
   "outputs": [
    {
     "data": {
      "text/plain": [
       "'javascript:;'"
      ]
     },
     "execution_count": 157,
     "metadata": {},
     "output_type": "execute_result"
    }
   ],
   "source": [
    "items.get_attribute('href')"
   ]
  },
  {
   "cell_type": "code",
   "execution_count": 166,
   "metadata": {},
   "outputs": [],
   "source": [
    "items.click()"
   ]
  },
  {
   "cell_type": "code",
   "execution_count": 195,
   "metadata": {},
   "outputs": [],
   "source": [
    "picture=browser.find_element_by_class_name(\"fancybox-image\")"
   ]
  },
  {
   "cell_type": "code",
   "execution_count": 213,
   "metadata": {},
   "outputs": [],
   "source": [
    "picture=browser.find_elements_by_tag_name('img')"
   ]
  },
  {
   "cell_type": "code",
   "execution_count": 251,
   "metadata": {},
   "outputs": [
    {
     "name": "stdout",
     "output_type": "stream",
     "text": [
      "https://www.jpl.nasa.gov/assets/images/logo_nasa_trio_black@2x.png\n",
      "https://www.jpl.nasa.gov/assets/images/logo_nasa_trio_black@2x.png\n",
      "https://www.jpl.nasa.gov/assets/images/overlay-arrow.png\n",
      "https://www.jpl.nasa.gov/spaceimages/images/wallpaper/PIA23999-640x350.jpg\n",
      "https://www.jpl.nasa.gov/assets/images/overlay-arrow.png\n",
      "https://www.jpl.nasa.gov/spaceimages/images/wallpaper/PIA23998-640x350.jpg\n",
      "https://www.jpl.nasa.gov/assets/images/overlay-arrow.png\n",
      "https://www.jpl.nasa.gov/spaceimages/images/wallpaper/PIA23997-640x350.jpg\n",
      "https://www.jpl.nasa.gov/assets/images/overlay-arrow.png\n",
      "https://www.jpl.nasa.gov/spaceimages/images/wallpaper/PIA23896-640x350.jpg\n",
      "https://www.jpl.nasa.gov/assets/images/overlay-arrow.png\n",
      "https://www.jpl.nasa.gov/spaceimages/images/wallpaper/PIA23975-640x350.jpg\n",
      "https://www.jpl.nasa.gov/assets/images/overlay-arrow.png\n",
      "https://www.jpl.nasa.gov/spaceimages/images/wallpaper/PIA23974-640x350.jpg\n",
      "https://www.jpl.nasa.gov/assets/images/overlay-arrow.png\n",
      "https://www.jpl.nasa.gov/spaceimages/images/wallpaper/PIA23973-640x350.jpg\n",
      "https://www.jpl.nasa.gov/assets/images/overlay-arrow.png\n",
      "https://www.jpl.nasa.gov/spaceimages/images/wallpaper/PIA23996-640x350.jpg\n",
      "https://www.jpl.nasa.gov/assets/images/overlay-arrow.png\n",
      "https://www.jpl.nasa.gov/spaceimages/images/wallpaper/PIA23995-640x350.jpg\n",
      "https://www.jpl.nasa.gov/assets/images/overlay-arrow.png\n",
      "https://www.jpl.nasa.gov/spaceimages/images/wallpaper/PIA23994-640x350.jpg\n",
      "https://www.jpl.nasa.gov/assets/images/overlay-arrow.png\n",
      "https://www.jpl.nasa.gov/spaceimages/images/wallpaper/PIA23993-640x350.jpg\n",
      "https://www.jpl.nasa.gov/assets/images/overlay-arrow.png\n",
      "https://www.jpl.nasa.gov/spaceimages/images/wallpaper/PIA23992-640x350.jpg\n",
      "https://www.jpl.nasa.gov/assets/images/overlay-arrow.png\n",
      "https://www.jpl.nasa.gov/spaceimages/images/wallpaper/PIA23991-640x350.jpg\n",
      "https://www.jpl.nasa.gov/assets/images/overlay-arrow.png\n",
      "https://www.jpl.nasa.gov/spaceimages/images/wallpaper/PIA23960-640x350.jpg\n",
      "https://www.jpl.nasa.gov/assets/images/overlay-arrow.png\n",
      "https://www.jpl.nasa.gov/spaceimages/images/wallpaper/PIA23959-640x350.jpg\n",
      "https://www.jpl.nasa.gov/assets/images/overlay-arrow.png\n",
      "https://www.jpl.nasa.gov/spaceimages/images/wallpaper/PIA23958-640x350.jpg\n",
      "https://www.jpl.nasa.gov/assets/images/overlay-arrow.png\n",
      "https://www.jpl.nasa.gov/spaceimages/images/wallpaper/PIA23957-640x350.jpg\n",
      "https://www.jpl.nasa.gov/assets/images/overlay-arrow.png\n",
      "https://www.jpl.nasa.gov/spaceimages/images/wallpaper/PIA23956-640x350.jpg\n",
      "https://www.jpl.nasa.gov/assets/images/overlay-arrow.png\n",
      "https://www.jpl.nasa.gov/spaceimages/images/wallpaper/PIA23950-640x350.jpg\n",
      "https://www.jpl.nasa.gov/assets/images/overlay-arrow.png\n",
      "https://www.jpl.nasa.gov/spaceimages/images/wallpaper/PIA23949-640x350.jpg\n",
      "https://www.jpl.nasa.gov/assets/images/overlay-arrow.png\n",
      "https://www.jpl.nasa.gov/spaceimages/images/wallpaper/PIA23948-640x350.jpg\n",
      "https://www.jpl.nasa.gov/assets/images/overlay-arrow.png\n",
      "https://www.jpl.nasa.gov/spaceimages/images/wallpaper/PIA23900-640x350.jpg\n",
      "https://www.jpl.nasa.gov/assets/images/overlay-arrow.png\n",
      "https://www.jpl.nasa.gov/spaceimages/images/wallpaper/PIA23947-640x350.jpg\n",
      "https://www.jpl.nasa.gov/assets/images/overlay-arrow.png\n",
      "https://www.jpl.nasa.gov/spaceimages/images/wallpaper/PIA23899-640x350.jpg\n",
      "https://www.jpl.nasa.gov/assets/images/overlay-arrow.png\n",
      "https://www.jpl.nasa.gov/spaceimages/images/wallpaper/PIA23946-640x350.jpg\n",
      "https://www.jpl.nasa.gov/assets/images/overlay-arrow.png\n",
      "https://www.jpl.nasa.gov/spaceimages/images/wallpaper/PIA23897-640x350.jpg\n",
      "https://www.jpl.nasa.gov/assets/images/overlay-arrow.png\n",
      "https://www.jpl.nasa.gov/spaceimages/images/wallpaper/PIA23945-640x350.jpg\n",
      "https://www.jpl.nasa.gov/assets/images/overlay-arrow.png\n",
      "https://www.jpl.nasa.gov/spaceimages/images/wallpaper/PIA23944-640x350.jpg\n",
      "https://www.jpl.nasa.gov/assets/images/overlay-arrow.png\n",
      "https://www.jpl.nasa.gov/spaceimages/images/wallpaper/PIA23943-640x350.jpg\n",
      "https://www.jpl.nasa.gov/assets/images/overlay-arrow.png\n",
      "https://www.jpl.nasa.gov/spaceimages/images/wallpaper/PIA23942-640x350.jpg\n",
      "https://www.jpl.nasa.gov/assets/images/overlay-arrow.png\n",
      "https://www.jpl.nasa.gov/spaceimages/images/wallpaper/PIA23893-640x350.jpg\n",
      "https://www.jpl.nasa.gov/assets/images/overlay-arrow.png\n",
      "https://www.jpl.nasa.gov/spaceimages/images/wallpaper/PIA23941-640x350.jpg\n",
      "https://www.jpl.nasa.gov/assets/images/content/tmp/images/jpl_photojournal(3x1).jpg\n",
      "https://www.jpl.nasa.gov/assets/images/content/tmp/images/nasa_images(3x1).jpg\n",
      "https://www.jpl.nasa.gov/assets/images/overlay-arrow.png\n",
      "https://imagecache.jpl.nasa.gov/images/640x350/launch-at-home-16-640x350.jpg\n",
      "https://www.jpl.nasa.gov/assets/images/overlay-arrow.png\n",
      "https://imagecache.jpl.nasa.gov/images/640x350/PIA23985-16-640x350.jpg\n",
      "https://www.jpl.nasa.gov/assets/images/overlay-arrow.png\n",
      "https://imagecache.jpl.nasa.gov/images/640x350/PIA23796-16-640x350.jpg\n",
      "https://www.jpl.nasa.gov/spaceimages/images/mediumsize/PIA16225_ip.jpg\n",
      "https://www.jpl.nasa.gov/assets/images/content/tmp/images/share.png\n",
      "https://www.jpl.nasa.gov/spaceimages/images/mediumsize/PIA16225_ip.jpg\n",
      "https://www.jpl.nasa.gov/spaceimages/images/wallpaper/PIA23999-640x350.jpg\n",
      "https://www.jpl.nasa.gov/spaceimages/images/wallpaper/PIA23998-640x350.jpg\n",
      "https://www.jpl.nasa.gov/spaceimages/images/wallpaper/PIA23997-640x350.jpg\n",
      "https://www.jpl.nasa.gov/spaceimages/images/wallpaper/PIA23896-640x350.jpg\n",
      "https://www.jpl.nasa.gov/spaceimages/images/wallpaper/PIA23975-640x350.jpg\n",
      "https://www.jpl.nasa.gov/spaceimages/images/wallpaper/PIA23974-640x350.jpg\n",
      "https://www.jpl.nasa.gov/spaceimages/images/wallpaper/PIA23973-640x350.jpg\n",
      "https://www.jpl.nasa.gov/spaceimages/images/wallpaper/PIA23996-640x350.jpg\n",
      "https://www.jpl.nasa.gov/spaceimages/images/wallpaper/PIA23995-640x350.jpg\n",
      "https://www.jpl.nasa.gov/spaceimages/images/wallpaper/PIA23994-640x350.jpg\n"
     ]
    }
   ],
   "source": [
    "for image in picture:\n",
    "        print(image.get_attribute('src'))\n",
    "        all_links.append(image.get_attribute('src'))"
   ]
  },
  {
   "cell_type": "code",
   "execution_count": 252,
   "metadata": {},
   "outputs": [
    {
     "name": "stdout",
     "output_type": "stream",
     "text": [
      "['https://www.jpl.nasa.gov/assets/images/logo_nasa_trio_black@2x.png', 'https://www.jpl.nasa.gov/assets/images/logo_nasa_trio_black@2x.png', 'https://www.jpl.nasa.gov/assets/images/overlay-arrow.png', 'https://www.jpl.nasa.gov/spaceimages/images/wallpaper/PIA23999-640x350.jpg', 'https://www.jpl.nasa.gov/assets/images/overlay-arrow.png', 'https://www.jpl.nasa.gov/spaceimages/images/wallpaper/PIA23998-640x350.jpg', 'https://www.jpl.nasa.gov/assets/images/overlay-arrow.png', 'https://www.jpl.nasa.gov/spaceimages/images/wallpaper/PIA23997-640x350.jpg', 'https://www.jpl.nasa.gov/assets/images/overlay-arrow.png', 'https://www.jpl.nasa.gov/spaceimages/images/wallpaper/PIA23896-640x350.jpg', 'https://www.jpl.nasa.gov/assets/images/overlay-arrow.png', 'https://www.jpl.nasa.gov/spaceimages/images/wallpaper/PIA23975-640x350.jpg', 'https://www.jpl.nasa.gov/assets/images/overlay-arrow.png', 'https://www.jpl.nasa.gov/spaceimages/images/wallpaper/PIA23974-640x350.jpg', 'https://www.jpl.nasa.gov/assets/images/overlay-arrow.png', 'https://www.jpl.nasa.gov/spaceimages/images/wallpaper/PIA23973-640x350.jpg', 'https://www.jpl.nasa.gov/assets/images/overlay-arrow.png', 'https://www.jpl.nasa.gov/spaceimages/images/wallpaper/PIA23996-640x350.jpg', 'https://www.jpl.nasa.gov/assets/images/overlay-arrow.png', 'https://www.jpl.nasa.gov/spaceimages/images/wallpaper/PIA23995-640x350.jpg', 'https://www.jpl.nasa.gov/assets/images/overlay-arrow.png', 'https://www.jpl.nasa.gov/spaceimages/images/wallpaper/PIA23994-640x350.jpg', 'https://www.jpl.nasa.gov/assets/images/overlay-arrow.png', 'https://www.jpl.nasa.gov/spaceimages/images/wallpaper/PIA23993-640x350.jpg', 'https://www.jpl.nasa.gov/assets/images/overlay-arrow.png', 'https://www.jpl.nasa.gov/spaceimages/images/wallpaper/PIA23992-640x350.jpg', 'https://www.jpl.nasa.gov/assets/images/overlay-arrow.png', 'https://www.jpl.nasa.gov/spaceimages/images/wallpaper/PIA23991-640x350.jpg', 'https://www.jpl.nasa.gov/assets/images/overlay-arrow.png', 'https://www.jpl.nasa.gov/spaceimages/images/wallpaper/PIA23960-640x350.jpg', 'https://www.jpl.nasa.gov/assets/images/overlay-arrow.png', 'https://www.jpl.nasa.gov/spaceimages/images/wallpaper/PIA23959-640x350.jpg', 'https://www.jpl.nasa.gov/assets/images/overlay-arrow.png', 'https://www.jpl.nasa.gov/spaceimages/images/wallpaper/PIA23958-640x350.jpg', 'https://www.jpl.nasa.gov/assets/images/overlay-arrow.png', 'https://www.jpl.nasa.gov/spaceimages/images/wallpaper/PIA23957-640x350.jpg', 'https://www.jpl.nasa.gov/assets/images/overlay-arrow.png', 'https://www.jpl.nasa.gov/spaceimages/images/wallpaper/PIA23956-640x350.jpg', 'https://www.jpl.nasa.gov/assets/images/overlay-arrow.png', 'https://www.jpl.nasa.gov/spaceimages/images/wallpaper/PIA23950-640x350.jpg', 'https://www.jpl.nasa.gov/assets/images/overlay-arrow.png', 'https://www.jpl.nasa.gov/spaceimages/images/wallpaper/PIA23949-640x350.jpg', 'https://www.jpl.nasa.gov/assets/images/overlay-arrow.png', 'https://www.jpl.nasa.gov/spaceimages/images/wallpaper/PIA23948-640x350.jpg', 'https://www.jpl.nasa.gov/assets/images/overlay-arrow.png', 'https://www.jpl.nasa.gov/spaceimages/images/wallpaper/PIA23900-640x350.jpg', 'https://www.jpl.nasa.gov/assets/images/overlay-arrow.png', 'https://www.jpl.nasa.gov/spaceimages/images/wallpaper/PIA23947-640x350.jpg', 'https://www.jpl.nasa.gov/assets/images/overlay-arrow.png', 'https://www.jpl.nasa.gov/spaceimages/images/wallpaper/PIA23899-640x350.jpg', 'https://www.jpl.nasa.gov/assets/images/overlay-arrow.png', 'https://www.jpl.nasa.gov/spaceimages/images/wallpaper/PIA23946-640x350.jpg', 'https://www.jpl.nasa.gov/assets/images/overlay-arrow.png', 'https://www.jpl.nasa.gov/spaceimages/images/wallpaper/PIA23897-640x350.jpg', 'https://www.jpl.nasa.gov/assets/images/overlay-arrow.png', 'https://www.jpl.nasa.gov/spaceimages/images/wallpaper/PIA23945-640x350.jpg', 'https://www.jpl.nasa.gov/assets/images/overlay-arrow.png', 'https://www.jpl.nasa.gov/spaceimages/images/wallpaper/PIA23944-640x350.jpg', 'https://www.jpl.nasa.gov/assets/images/overlay-arrow.png', 'https://www.jpl.nasa.gov/spaceimages/images/wallpaper/PIA23943-640x350.jpg', 'https://www.jpl.nasa.gov/assets/images/overlay-arrow.png', 'https://www.jpl.nasa.gov/spaceimages/images/wallpaper/PIA23942-640x350.jpg', 'https://www.jpl.nasa.gov/assets/images/overlay-arrow.png', 'https://www.jpl.nasa.gov/spaceimages/images/wallpaper/PIA23893-640x350.jpg', 'https://www.jpl.nasa.gov/assets/images/overlay-arrow.png', 'https://www.jpl.nasa.gov/spaceimages/images/wallpaper/PIA23941-640x350.jpg', 'https://www.jpl.nasa.gov/assets/images/content/tmp/images/jpl_photojournal(3x1).jpg', 'https://www.jpl.nasa.gov/assets/images/content/tmp/images/nasa_images(3x1).jpg', 'https://www.jpl.nasa.gov/assets/images/overlay-arrow.png', 'https://imagecache.jpl.nasa.gov/images/640x350/launch-at-home-16-640x350.jpg', 'https://www.jpl.nasa.gov/assets/images/overlay-arrow.png', 'https://imagecache.jpl.nasa.gov/images/640x350/PIA23985-16-640x350.jpg', 'https://www.jpl.nasa.gov/assets/images/overlay-arrow.png', 'https://imagecache.jpl.nasa.gov/images/640x350/PIA23796-16-640x350.jpg', 'https://www.jpl.nasa.gov/spaceimages/images/mediumsize/PIA16225_ip.jpg', 'https://www.jpl.nasa.gov/assets/images/content/tmp/images/share.png', 'https://www.jpl.nasa.gov/spaceimages/images/mediumsize/PIA16225_ip.jpg', 'https://www.jpl.nasa.gov/spaceimages/images/wallpaper/PIA23999-640x350.jpg', 'https://www.jpl.nasa.gov/spaceimages/images/wallpaper/PIA23998-640x350.jpg', 'https://www.jpl.nasa.gov/spaceimages/images/wallpaper/PIA23997-640x350.jpg', 'https://www.jpl.nasa.gov/spaceimages/images/wallpaper/PIA23896-640x350.jpg', 'https://www.jpl.nasa.gov/spaceimages/images/wallpaper/PIA23975-640x350.jpg', 'https://www.jpl.nasa.gov/spaceimages/images/wallpaper/PIA23974-640x350.jpg', 'https://www.jpl.nasa.gov/spaceimages/images/wallpaper/PIA23973-640x350.jpg', 'https://www.jpl.nasa.gov/spaceimages/images/wallpaper/PIA23996-640x350.jpg', 'https://www.jpl.nasa.gov/spaceimages/images/wallpaper/PIA23995-640x350.jpg', 'https://www.jpl.nasa.gov/spaceimages/images/wallpaper/PIA23994-640x350.jpg']\n"
     ]
    }
   ],
   "source": [
    "print(all_links)"
   ]
  },
  {
   "cell_type": "code",
   "execution_count": 255,
   "metadata": {},
   "outputs": [
    {
     "name": "stdout",
     "output_type": "stream",
     "text": [
      "https://www.jpl.nasa.gov/spaceimages/images/mediumsize/PIA16225_ip.jpg\n",
      "https://www.jpl.nasa.gov/spaceimages/images/mediumsize/PIA16225_ip.jpg\n"
     ]
    }
   ],
   "source": [
    "for link in all_links:\n",
    "    if link[-3:]==\"jpg\" and \"mediumsize\" in link:\n",
    "        print(link)"
   ]
  },
  {
   "cell_type": "code",
   "execution_count": 218,
   "metadata": {},
   "outputs": [],
   "source": [
    "mystring=\"word\""
   ]
  },
  {
   "cell_type": "code",
   "execution_count": 242,
   "metadata": {},
   "outputs": [
    {
     "data": {
      "text/plain": [
       "'ord'"
      ]
     },
     "execution_count": 242,
     "metadata": {},
     "output_type": "execute_result"
    }
   ],
   "source": [
    "mystring[-3:]"
   ]
  },
  {
   "cell_type": "code",
   "execution_count": 256,
   "metadata": {},
   "outputs": [],
   "source": [
    "browser= webdriver.Chrome('chromedriver.exe')\n",
    "browser.get('https://twitter.com/marswxreport?lang=en')"
   ]
  },
  {
   "cell_type": "code",
   "execution_count": 260,
   "metadata": {},
   "outputs": [],
   "source": [
    "tweet=browser.find_element_by_xpath('//*[@id=\"react-root\"]/div/div/div[2]/main/div/div/div/div/div/div/div/div/div[2]/section/div/div/div/div[1]/div/div/article/div/div/div/div[2]/div[2]/div[2]')"
   ]
  },
  {
   "cell_type": "code",
   "execution_count": 263,
   "metadata": {},
   "outputs": [],
   "source": [
    "#this is the tweet puzzle solved\n",
    "mars_weather=tweet.text"
   ]
  },
  {
   "cell_type": "code",
   "execution_count": 266,
   "metadata": {},
   "outputs": [],
   "source": [
    "tables = pd.read_html('https://space-facts.com/mars/')"
   ]
  },
  {
   "cell_type": "code",
   "execution_count": 267,
   "metadata": {},
   "outputs": [
    {
     "data": {
      "text/plain": [
       "[                      0                              1\n",
       " 0  Equatorial Diameter:                       6,792 km\n",
       " 1       Polar Diameter:                       6,752 km\n",
       " 2                 Mass:  6.39 × 10^23 kg (0.11 Earths)\n",
       " 3                Moons:            2 (Phobos & Deimos)\n",
       " 4       Orbit Distance:       227,943,824 km (1.38 AU)\n",
       " 5         Orbit Period:           687 days (1.9 years)\n",
       " 6  Surface Temperature:                   -87 to -5 °C\n",
       " 7         First Record:              2nd millennium BC\n",
       " 8          Recorded By:           Egyptian astronomers,\n",
       "   Mars - Earth Comparison             Mars            Earth\n",
       " 0               Diameter:         6,779 km        12,742 km\n",
       " 1                   Mass:  6.39 × 10^23 kg  5.97 × 10^24 kg\n",
       " 2                  Moons:                2                1\n",
       " 3      Distance from Sun:   227,943,824 km   149,598,262 km\n",
       " 4         Length of Year:   687 Earth days      365.24 days\n",
       " 5            Temperature:    -153 to 20 °C      -88 to 58°C,\n",
       "                       0                              1\n",
       " 0  Equatorial Diameter:                       6,792 km\n",
       " 1       Polar Diameter:                       6,752 km\n",
       " 2                 Mass:  6.39 × 10^23 kg (0.11 Earths)\n",
       " 3                Moons:            2 (Phobos & Deimos)\n",
       " 4       Orbit Distance:       227,943,824 km (1.38 AU)\n",
       " 5         Orbit Period:           687 days (1.9 years)\n",
       " 6  Surface Temperature:                   -87 to -5 °C\n",
       " 7         First Record:              2nd millennium BC\n",
       " 8          Recorded By:           Egyptian astronomers]"
      ]
     },
     "execution_count": 267,
     "metadata": {},
     "output_type": "execute_result"
    }
   ],
   "source": [
    "tables"
   ]
  },
  {
   "cell_type": "code",
   "execution_count": 268,
   "metadata": {},
   "outputs": [],
   "source": [
    "df=tables[0]"
   ]
  },
  {
   "cell_type": "code",
   "execution_count": 270,
   "metadata": {},
   "outputs": [],
   "source": [
    "df.columns=['Record', 'Measurement']"
   ]
  },
  {
   "cell_type": "code",
   "execution_count": 272,
   "metadata": {},
   "outputs": [],
   "source": [
    "df.set_index('Record', inplace=True)"
   ]
  },
  {
   "cell_type": "code",
   "execution_count": 273,
   "metadata": {},
   "outputs": [
    {
     "data": {
      "text/html": [
       "<div>\n",
       "<style scoped>\n",
       "    .dataframe tbody tr th:only-of-type {\n",
       "        vertical-align: middle;\n",
       "    }\n",
       "\n",
       "    .dataframe tbody tr th {\n",
       "        vertical-align: top;\n",
       "    }\n",
       "\n",
       "    .dataframe thead th {\n",
       "        text-align: right;\n",
       "    }\n",
       "</style>\n",
       "<table border=\"1\" class=\"dataframe\">\n",
       "  <thead>\n",
       "    <tr style=\"text-align: right;\">\n",
       "      <th></th>\n",
       "      <th>Measurement</th>\n",
       "    </tr>\n",
       "    <tr>\n",
       "      <th>Record</th>\n",
       "      <th></th>\n",
       "    </tr>\n",
       "  </thead>\n",
       "  <tbody>\n",
       "    <tr>\n",
       "      <th>Equatorial Diameter:</th>\n",
       "      <td>6,792 km</td>\n",
       "    </tr>\n",
       "    <tr>\n",
       "      <th>Polar Diameter:</th>\n",
       "      <td>6,752 km</td>\n",
       "    </tr>\n",
       "    <tr>\n",
       "      <th>Mass:</th>\n",
       "      <td>6.39 × 10^23 kg (0.11 Earths)</td>\n",
       "    </tr>\n",
       "    <tr>\n",
       "      <th>Moons:</th>\n",
       "      <td>2 (Phobos &amp; Deimos)</td>\n",
       "    </tr>\n",
       "    <tr>\n",
       "      <th>Orbit Distance:</th>\n",
       "      <td>227,943,824 km (1.38 AU)</td>\n",
       "    </tr>\n",
       "    <tr>\n",
       "      <th>Orbit Period:</th>\n",
       "      <td>687 days (1.9 years)</td>\n",
       "    </tr>\n",
       "    <tr>\n",
       "      <th>Surface Temperature:</th>\n",
       "      <td>-87 to -5 °C</td>\n",
       "    </tr>\n",
       "    <tr>\n",
       "      <th>First Record:</th>\n",
       "      <td>2nd millennium BC</td>\n",
       "    </tr>\n",
       "    <tr>\n",
       "      <th>Recorded By:</th>\n",
       "      <td>Egyptian astronomers</td>\n",
       "    </tr>\n",
       "  </tbody>\n",
       "</table>\n",
       "</div>"
      ],
      "text/plain": [
       "                                        Measurement\n",
       "Record                                             \n",
       "Equatorial Diameter:                       6,792 km\n",
       "Polar Diameter:                            6,752 km\n",
       "Mass:                 6.39 × 10^23 kg (0.11 Earths)\n",
       "Moons:                          2 (Phobos & Deimos)\n",
       "Orbit Distance:            227,943,824 km (1.38 AU)\n",
       "Orbit Period:                  687 days (1.9 years)\n",
       "Surface Temperature:                   -87 to -5 °C\n",
       "First Record:                     2nd millennium BC\n",
       "Recorded By:                   Egyptian astronomers"
      ]
     },
     "execution_count": 273,
     "metadata": {},
     "output_type": "execute_result"
    }
   ],
   "source": [
    "df"
   ]
  },
  {
   "cell_type": "code",
   "execution_count": 274,
   "metadata": {},
   "outputs": [],
   "source": [
    "html_table=df.to_html()"
   ]
  },
  {
   "cell_type": "code",
   "execution_count": 275,
   "metadata": {},
   "outputs": [
    {
     "data": {
      "text/plain": [
       "'<table border=\"1\" class=\"dataframe\">\\n  <thead>\\n    <tr style=\"text-align: right;\">\\n      <th></th>\\n      <th>Measurement</th>\\n    </tr>\\n    <tr>\\n      <th>Record</th>\\n      <th></th>\\n    </tr>\\n  </thead>\\n  <tbody>\\n    <tr>\\n      <th>Equatorial Diameter:</th>\\n      <td>6,792 km</td>\\n    </tr>\\n    <tr>\\n      <th>Polar Diameter:</th>\\n      <td>6,752 km</td>\\n    </tr>\\n    <tr>\\n      <th>Mass:</th>\\n      <td>6.39 × 10^23 kg (0.11 Earths)</td>\\n    </tr>\\n    <tr>\\n      <th>Moons:</th>\\n      <td>2 (Phobos &amp; Deimos)</td>\\n    </tr>\\n    <tr>\\n      <th>Orbit Distance:</th>\\n      <td>227,943,824 km (1.38 AU)</td>\\n    </tr>\\n    <tr>\\n      <th>Orbit Period:</th>\\n      <td>687 days (1.9 years)</td>\\n    </tr>\\n    <tr>\\n      <th>Surface Temperature:</th>\\n      <td>-87 to -5 °C</td>\\n    </tr>\\n    <tr>\\n      <th>First Record:</th>\\n      <td>2nd millennium BC</td>\\n    </tr>\\n    <tr>\\n      <th>Recorded By:</th>\\n      <td>Egyptian astronomers</td>\\n    </tr>\\n  </tbody>\\n</table>'"
      ]
     },
     "execution_count": 275,
     "metadata": {},
     "output_type": "execute_result"
    }
   ],
   "source": [
    "html_table"
   ]
  },
  {
   "cell_type": "code",
   "execution_count": null,
   "metadata": {},
   "outputs": [],
   "source": []
  }
 ],
 "metadata": {
  "kernelspec": {
   "display_name": "Python 3.6.10 64-bit ('PythonDataViz': conda)",
   "language": "python",
   "name": "python361064bitpythondatavizcondaed56fc30986a464784f8a472c80ebaf6"
  },
  "language_info": {
   "codemirror_mode": {
    "name": "ipython",
    "version": 3
   },
   "file_extension": ".py",
   "mimetype": "text/x-python",
   "name": "python",
   "nbconvert_exporter": "python",
   "pygments_lexer": "ipython3",
   "version": "3.6.10"
  }
 },
 "nbformat": 4,
 "nbformat_minor": 4
}
