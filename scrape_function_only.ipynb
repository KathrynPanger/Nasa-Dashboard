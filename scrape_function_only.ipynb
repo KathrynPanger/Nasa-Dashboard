{
 "cells": [
  {
   "cell_type": "code",
   "execution_count": 102,
   "metadata": {},
   "outputs": [],
   "source": [
    "#Dependencies\n",
    "from bs4 import BeautifulSoup\n",
    "import requests\n",
    "from splinter import Browser\n",
    "from selenium import webdriver\n",
    "from selenium.webdriver.common.keys import Keys\n",
    "import pandas as pd\n",
    "import time"
   ]
  },
  {
   "cell_type": "code",
   "execution_count": 58,
   "metadata": {},
   "outputs": [
    {
     "data": {
      "text/plain": [
       "\"The Launch Is Approaching for NASA's Next Mars Rover, Perseverance\""
      ]
     },
     "execution_count": 58,
     "metadata": {},
     "output_type": "execute_result"
    }
   ],
   "source": [
    "#scraping the news\n",
    "news_url='https://mars.nasa.gov/news/?page=0&per_page=40&order=publish_date+desc%2Ccreated_at+desc&search=&category=19%2C165%2C184%2C204&blank_scope=Latest'\n",
    "response=requests.get(news_url)\n",
    "soup=BeautifulSoup(response.text,'html.parser')\n",
    "news_title=soup.find_all('div', class_='rollover_description_inner')[0].text\n",
    "news_title=news_title.split('\\n')\n",
    "news_title=news_title[1]\n",
    "\n",
    "news_p=soup.find_all('div', class_='content_title')[0].text\n",
    "news_p=news_p.split('\\n')\n",
    "news_p=news_p[2]\n",
    "news_p"
   ]
  },
  {
   "cell_type": "code",
   "execution_count": 105,
   "metadata": {},
   "outputs": [],
   "source": [
    "#scraping featured image\n",
    "browser= webdriver.Chrome('chromedriver.exe')\n",
    "browser.get('https://www.jpl.nasa.gov/spaceimages/?search=&category=Mars')\n",
    "button=browser.find_element_by_link_text(\"FULL IMAGE\")\n",
    "button.click()\n",
    "pictures=browser.find_elements_by_tag_name('img')\n",
    "time.sleep(3)\n",
    "picture=browser.find_element_by_class_name(\"fancybox-image\")\n",
    "all_links=[]\n",
    "featured_image_url=[]\n",
    "for image in pictures:\n",
    "    all_links.append(image.get_attribute('src'))\n",
    "#for link in all_links:\n",
    "#    if link[-3:]==\"jpg\" and \"mediumsize\" in link:\n",
    "#        print(link)\n",
    "            "
   ]
  },
  {
   "cell_type": "code",
   "execution_count": 106,
   "metadata": {},
   "outputs": [
    {
     "data": {
      "text/plain": [
       "['https://www.jpl.nasa.gov/assets/images/logo_nasa_trio_black@2x.png',\n",
       " 'https://www.jpl.nasa.gov/assets/images/logo_nasa_trio_black@2x.png',\n",
       " 'https://www.jpl.nasa.gov/assets/images/overlay-arrow.png',\n",
       " 'https://www.jpl.nasa.gov/spaceimages/images/wallpaper/PIA24002-640x350.jpg',\n",
       " 'https://www.jpl.nasa.gov/assets/images/overlay-arrow.png',\n",
       " 'https://www.jpl.nasa.gov/spaceimages/images/wallpaper/PIA24001-640x350.jpg',\n",
       " 'https://www.jpl.nasa.gov/assets/images/overlay-arrow.png',\n",
       " 'https://www.jpl.nasa.gov/spaceimages/images/wallpaper/PIA24000-640x350.jpg',\n",
       " 'https://www.jpl.nasa.gov/assets/images/overlay-arrow.png',\n",
       " 'https://www.jpl.nasa.gov/spaceimages/images/wallpaper/PIA23999-640x350.jpg',\n",
       " 'https://www.jpl.nasa.gov/assets/images/overlay-arrow.png',\n",
       " 'https://www.jpl.nasa.gov/spaceimages/images/wallpaper/PIA23998-640x350.jpg',\n",
       " 'https://www.jpl.nasa.gov/assets/images/overlay-arrow.png',\n",
       " 'https://www.jpl.nasa.gov/spaceimages/images/wallpaper/PIA23997-640x350.jpg',\n",
       " 'https://www.jpl.nasa.gov/assets/images/overlay-arrow.png',\n",
       " 'https://www.jpl.nasa.gov/spaceimages/images/wallpaper/PIA23896-640x350.jpg',\n",
       " 'https://www.jpl.nasa.gov/assets/images/overlay-arrow.png',\n",
       " 'https://www.jpl.nasa.gov/spaceimages/images/wallpaper/PIA23975-640x350.jpg',\n",
       " 'https://www.jpl.nasa.gov/assets/images/overlay-arrow.png',\n",
       " 'https://www.jpl.nasa.gov/spaceimages/images/wallpaper/PIA23974-640x350.jpg',\n",
       " 'https://www.jpl.nasa.gov/assets/images/overlay-arrow.png',\n",
       " 'https://www.jpl.nasa.gov/spaceimages/images/wallpaper/PIA23973-640x350.jpg',\n",
       " 'https://www.jpl.nasa.gov/assets/images/overlay-arrow.png',\n",
       " 'https://www.jpl.nasa.gov/spaceimages/images/wallpaper/PIA23996-640x350.jpg',\n",
       " 'https://www.jpl.nasa.gov/assets/images/overlay-arrow.png',\n",
       " 'https://www.jpl.nasa.gov/spaceimages/images/wallpaper/PIA23995-640x350.jpg',\n",
       " 'https://www.jpl.nasa.gov/assets/images/overlay-arrow.png',\n",
       " 'https://www.jpl.nasa.gov/spaceimages/images/wallpaper/PIA23994-640x350.jpg',\n",
       " 'https://www.jpl.nasa.gov/assets/images/overlay-arrow.png',\n",
       " 'https://www.jpl.nasa.gov/spaceimages/images/wallpaper/PIA23993-640x350.jpg',\n",
       " 'https://www.jpl.nasa.gov/assets/images/overlay-arrow.png',\n",
       " 'https://www.jpl.nasa.gov/spaceimages/images/wallpaper/PIA23992-640x350.jpg',\n",
       " 'https://www.jpl.nasa.gov/assets/images/overlay-arrow.png',\n",
       " 'https://www.jpl.nasa.gov/spaceimages/images/wallpaper/PIA23991-640x350.jpg',\n",
       " 'https://www.jpl.nasa.gov/assets/images/overlay-arrow.png',\n",
       " 'https://www.jpl.nasa.gov/spaceimages/images/wallpaper/PIA23960-640x350.jpg',\n",
       " 'https://www.jpl.nasa.gov/assets/images/overlay-arrow.png',\n",
       " 'https://www.jpl.nasa.gov/spaceimages/images/wallpaper/PIA23959-640x350.jpg',\n",
       " 'https://www.jpl.nasa.gov/assets/images/overlay-arrow.png',\n",
       " 'https://www.jpl.nasa.gov/spaceimages/images/wallpaper/PIA23958-640x350.jpg',\n",
       " 'https://www.jpl.nasa.gov/assets/images/overlay-arrow.png',\n",
       " 'https://www.jpl.nasa.gov/spaceimages/images/wallpaper/PIA23957-640x350.jpg',\n",
       " 'https://www.jpl.nasa.gov/assets/images/overlay-arrow.png',\n",
       " 'https://www.jpl.nasa.gov/spaceimages/images/wallpaper/PIA23956-640x350.jpg',\n",
       " 'https://www.jpl.nasa.gov/assets/images/overlay-arrow.png',\n",
       " 'https://www.jpl.nasa.gov/spaceimages/images/wallpaper/PIA23950-640x350.jpg',\n",
       " 'https://www.jpl.nasa.gov/assets/images/overlay-arrow.png',\n",
       " 'https://www.jpl.nasa.gov/spaceimages/images/wallpaper/PIA23949-640x350.jpg',\n",
       " 'https://www.jpl.nasa.gov/assets/images/overlay-arrow.png',\n",
       " 'https://www.jpl.nasa.gov/spaceimages/images/wallpaper/PIA23948-640x350.jpg',\n",
       " 'https://www.jpl.nasa.gov/assets/images/overlay-arrow.png',\n",
       " 'https://www.jpl.nasa.gov/spaceimages/images/wallpaper/PIA23900-640x350.jpg',\n",
       " 'https://www.jpl.nasa.gov/assets/images/overlay-arrow.png',\n",
       " 'https://www.jpl.nasa.gov/spaceimages/images/wallpaper/PIA23947-640x350.jpg',\n",
       " 'https://www.jpl.nasa.gov/assets/images/overlay-arrow.png',\n",
       " 'https://www.jpl.nasa.gov/spaceimages/images/wallpaper/PIA23899-640x350.jpg',\n",
       " 'https://www.jpl.nasa.gov/assets/images/overlay-arrow.png',\n",
       " 'https://www.jpl.nasa.gov/spaceimages/images/wallpaper/PIA23946-640x350.jpg',\n",
       " 'https://www.jpl.nasa.gov/assets/images/overlay-arrow.png',\n",
       " 'https://www.jpl.nasa.gov/spaceimages/images/wallpaper/PIA23897-640x350.jpg',\n",
       " 'https://www.jpl.nasa.gov/assets/images/overlay-arrow.png',\n",
       " 'https://www.jpl.nasa.gov/spaceimages/images/wallpaper/PIA23945-640x350.jpg',\n",
       " 'https://www.jpl.nasa.gov/assets/images/overlay-arrow.png',\n",
       " 'https://www.jpl.nasa.gov/spaceimages/images/wallpaper/PIA23944-640x350.jpg',\n",
       " 'https://www.jpl.nasa.gov/assets/images/overlay-arrow.png',\n",
       " 'https://www.jpl.nasa.gov/spaceimages/images/wallpaper/PIA23943-640x350.jpg',\n",
       " 'https://www.jpl.nasa.gov/assets/images/content/tmp/images/jpl_photojournal(3x1).jpg',\n",
       " 'https://www.jpl.nasa.gov/assets/images/content/tmp/images/nasa_images(3x1).jpg',\n",
       " 'https://www.jpl.nasa.gov/assets/images/overlay-arrow.png',\n",
       " 'https://imagecache.jpl.nasa.gov/images/640x350/PIA23720-16-640x350.jpg',\n",
       " 'https://www.jpl.nasa.gov/assets/images/overlay-arrow.png',\n",
       " 'https://imagecache.jpl.nasa.gov/images/640x350/minipayload20200409-16-640x350.jpg',\n",
       " 'https://www.jpl.nasa.gov/assets/images/overlay-arrow.png',\n",
       " 'https://imagecache.jpl.nasa.gov/images/640x350/launch-at-home-16-640x350.jpg']"
      ]
     },
     "execution_count": 106,
     "metadata": {},
     "output_type": "execute_result"
    }
   ],
   "source": [
    "all_links"
   ]
  },
  {
   "cell_type": "code",
   "execution_count": 72,
   "metadata": {},
   "outputs": [
    {
     "ename": "AttributeError",
     "evalue": "'WebDriver' object has no attribute 'find_element_by_link_text'",
     "output_type": "error",
     "traceback": [
      "\u001b[1;31m---------------------------------------------------------------------------\u001b[0m",
      "\u001b[1;31mAttributeError\u001b[0m                            Traceback (most recent call last)",
      "\u001b[1;32m<ipython-input-72-5dc5277b7c9d>\u001b[0m in \u001b[0;36m<module>\u001b[1;34m\u001b[0m\n\u001b[1;32m----> 1\u001b[1;33m \u001b[0mbutton\u001b[0m\u001b[1;33m=\u001b[0m\u001b[0mbrowser\u001b[0m\u001b[1;33m.\u001b[0m\u001b[0mfind_element_by_link_text\u001b[0m\u001b[1;33m(\u001b[0m\u001b[1;34m\"FULL IMAGE\"\u001b[0m\u001b[1;33m)\u001b[0m\u001b[1;33m\u001b[0m\u001b[1;33m\u001b[0m\u001b[0m\n\u001b[0m",
      "\u001b[1;31mAttributeError\u001b[0m: 'WebDriver' object has no attribute 'find_element_by_link_text'"
     ]
    }
   ],
   "source": [
    "button=browser.find_element_by_link_text(\"FULL IMAGE\")"
   ]
  },
  {
   "cell_type": "code",
   "execution_count": 107,
   "metadata": {},
   "outputs": [],
   "source": [
    "picture=browser.find_element_by_class_name(\"fancybox-image\")"
   ]
  },
  {
   "cell_type": "code",
   "execution_count": 100,
   "metadata": {},
   "outputs": [
    {
     "data": {
      "text/plain": [
       "<selenium.webdriver.remote.webelement.WebElement (session=\"6e159a2109e546cafd26362397fb56d3\", element=\"0.11334985571068801-76\")>"
      ]
     },
     "execution_count": 100,
     "metadata": {},
     "output_type": "execute_result"
    }
   ],
   "source": [
    "picture.find_elements_by"
   ]
  },
  {
   "cell_type": "code",
   "execution_count": 86,
   "metadata": {},
   "outputs": [],
   "source": [
    "pictures=browser.find_elements_by_tag_name('img')"
   ]
  },
  {
   "cell_type": "code",
   "execution_count": 90,
   "metadata": {},
   "outputs": [
    {
     "name": "stdout",
     "output_type": "stream",
     "text": [
      "https://www.jpl.nasa.gov/assets/images/logo_nasa_trio_black@2x.png\n",
      "https://www.jpl.nasa.gov/assets/images/logo_nasa_trio_black@2x.png\n",
      "https://www.jpl.nasa.gov/assets/images/overlay-arrow.png\n",
      "https://www.jpl.nasa.gov/spaceimages/images/wallpaper/PIA24002-640x350.jpg\n",
      "https://www.jpl.nasa.gov/assets/images/overlay-arrow.png\n",
      "https://www.jpl.nasa.gov/spaceimages/images/wallpaper/PIA24001-640x350.jpg\n",
      "https://www.jpl.nasa.gov/assets/images/overlay-arrow.png\n",
      "https://www.jpl.nasa.gov/spaceimages/images/wallpaper/PIA24000-640x350.jpg\n",
      "https://www.jpl.nasa.gov/assets/images/overlay-arrow.png\n",
      "https://www.jpl.nasa.gov/spaceimages/images/wallpaper/PIA23999-640x350.jpg\n",
      "https://www.jpl.nasa.gov/assets/images/overlay-arrow.png\n",
      "https://www.jpl.nasa.gov/spaceimages/images/wallpaper/PIA23998-640x350.jpg\n",
      "https://www.jpl.nasa.gov/assets/images/overlay-arrow.png\n",
      "https://www.jpl.nasa.gov/spaceimages/images/wallpaper/PIA23997-640x350.jpg\n",
      "https://www.jpl.nasa.gov/assets/images/overlay-arrow.png\n",
      "https://www.jpl.nasa.gov/spaceimages/images/wallpaper/PIA23896-640x350.jpg\n",
      "https://www.jpl.nasa.gov/assets/images/overlay-arrow.png\n",
      "https://www.jpl.nasa.gov/spaceimages/images/wallpaper/PIA23975-640x350.jpg\n",
      "https://www.jpl.nasa.gov/assets/images/overlay-arrow.png\n",
      "https://www.jpl.nasa.gov/spaceimages/images/wallpaper/PIA23974-640x350.jpg\n",
      "https://www.jpl.nasa.gov/assets/images/overlay-arrow.png\n",
      "https://www.jpl.nasa.gov/spaceimages/images/wallpaper/PIA23973-640x350.jpg\n",
      "https://www.jpl.nasa.gov/assets/images/overlay-arrow.png\n",
      "https://www.jpl.nasa.gov/spaceimages/images/wallpaper/PIA23996-640x350.jpg\n",
      "https://www.jpl.nasa.gov/assets/images/overlay-arrow.png\n",
      "https://www.jpl.nasa.gov/spaceimages/images/wallpaper/PIA23995-640x350.jpg\n",
      "https://www.jpl.nasa.gov/assets/images/overlay-arrow.png\n",
      "https://www.jpl.nasa.gov/spaceimages/images/wallpaper/PIA23994-640x350.jpg\n",
      "https://www.jpl.nasa.gov/assets/images/overlay-arrow.png\n",
      "https://www.jpl.nasa.gov/spaceimages/images/wallpaper/PIA23993-640x350.jpg\n",
      "https://www.jpl.nasa.gov/assets/images/overlay-arrow.png\n",
      "https://www.jpl.nasa.gov/spaceimages/images/wallpaper/PIA23992-640x350.jpg\n",
      "https://www.jpl.nasa.gov/assets/images/overlay-arrow.png\n",
      "https://www.jpl.nasa.gov/spaceimages/images/wallpaper/PIA23991-640x350.jpg\n",
      "https://www.jpl.nasa.gov/assets/images/overlay-arrow.png\n",
      "https://www.jpl.nasa.gov/spaceimages/images/wallpaper/PIA23960-640x350.jpg\n",
      "https://www.jpl.nasa.gov/assets/images/overlay-arrow.png\n",
      "https://www.jpl.nasa.gov/spaceimages/images/wallpaper/PIA23959-640x350.jpg\n",
      "https://www.jpl.nasa.gov/assets/images/overlay-arrow.png\n",
      "https://www.jpl.nasa.gov/spaceimages/images/wallpaper/PIA23958-640x350.jpg\n",
      "https://www.jpl.nasa.gov/assets/images/overlay-arrow.png\n",
      "https://www.jpl.nasa.gov/spaceimages/images/wallpaper/PIA23957-640x350.jpg\n",
      "https://www.jpl.nasa.gov/assets/images/overlay-arrow.png\n",
      "https://www.jpl.nasa.gov/spaceimages/images/wallpaper/PIA23956-640x350.jpg\n",
      "https://www.jpl.nasa.gov/assets/images/overlay-arrow.png\n",
      "https://www.jpl.nasa.gov/spaceimages/images/wallpaper/PIA23950-640x350.jpg\n",
      "https://www.jpl.nasa.gov/assets/images/overlay-arrow.png\n",
      "https://www.jpl.nasa.gov/spaceimages/images/wallpaper/PIA23949-640x350.jpg\n",
      "https://www.jpl.nasa.gov/assets/images/overlay-arrow.png\n",
      "https://www.jpl.nasa.gov/spaceimages/images/wallpaper/PIA23948-640x350.jpg\n",
      "https://www.jpl.nasa.gov/assets/images/overlay-arrow.png\n",
      "https://www.jpl.nasa.gov/spaceimages/images/wallpaper/PIA23900-640x350.jpg\n",
      "https://www.jpl.nasa.gov/assets/images/overlay-arrow.png\n",
      "https://www.jpl.nasa.gov/spaceimages/images/wallpaper/PIA23947-640x350.jpg\n",
      "https://www.jpl.nasa.gov/assets/images/overlay-arrow.png\n",
      "https://www.jpl.nasa.gov/spaceimages/images/wallpaper/PIA23899-640x350.jpg\n",
      "https://www.jpl.nasa.gov/assets/images/overlay-arrow.png\n",
      "https://www.jpl.nasa.gov/spaceimages/images/wallpaper/PIA23946-640x350.jpg\n",
      "https://www.jpl.nasa.gov/assets/images/overlay-arrow.png\n",
      "https://www.jpl.nasa.gov/spaceimages/images/wallpaper/PIA23897-640x350.jpg\n",
      "https://www.jpl.nasa.gov/assets/images/overlay-arrow.png\n",
      "https://www.jpl.nasa.gov/spaceimages/images/wallpaper/PIA23945-640x350.jpg\n",
      "https://www.jpl.nasa.gov/assets/images/overlay-arrow.png\n",
      "https://www.jpl.nasa.gov/spaceimages/images/wallpaper/PIA23944-640x350.jpg\n",
      "https://www.jpl.nasa.gov/assets/images/overlay-arrow.png\n",
      "https://www.jpl.nasa.gov/spaceimages/images/wallpaper/PIA23943-640x350.jpg\n",
      "https://www.jpl.nasa.gov/assets/images/content/tmp/images/jpl_photojournal(3x1).jpg\n",
      "https://www.jpl.nasa.gov/assets/images/content/tmp/images/nasa_images(3x1).jpg\n",
      "https://www.jpl.nasa.gov/assets/images/overlay-arrow.png\n",
      "https://imagecache.jpl.nasa.gov/images/640x350/PIA23720-16-640x350.jpg\n",
      "https://www.jpl.nasa.gov/assets/images/overlay-arrow.png\n",
      "https://imagecache.jpl.nasa.gov/images/640x350/minipayload20200409-16-640x350.jpg\n",
      "https://www.jpl.nasa.gov/assets/images/overlay-arrow.png\n",
      "https://imagecache.jpl.nasa.gov/images/640x350/launch-at-home-16-640x350.jpg\n",
      "https://www.jpl.nasa.gov/spaceimages/images/mediumsize/PIA18847_ip.jpg\n",
      "https://www.jpl.nasa.gov/assets/images/content/tmp/images/share.png\n",
      "https://www.jpl.nasa.gov/spaceimages/images/mediumsize/PIA18847_ip.jpg\n",
      "https://www.jpl.nasa.gov/spaceimages/images/wallpaper/PIA24002-640x350.jpg\n",
      "https://www.jpl.nasa.gov/spaceimages/images/wallpaper/PIA24001-640x350.jpg\n",
      "https://www.jpl.nasa.gov/spaceimages/images/wallpaper/PIA24000-640x350.jpg\n",
      "https://www.jpl.nasa.gov/spaceimages/images/wallpaper/PIA23999-640x350.jpg\n",
      "https://www.jpl.nasa.gov/spaceimages/images/wallpaper/PIA23998-640x350.jpg\n",
      "https://www.jpl.nasa.gov/spaceimages/images/wallpaper/PIA23997-640x350.jpg\n",
      "https://www.jpl.nasa.gov/spaceimages/images/wallpaper/PIA23896-640x350.jpg\n",
      "https://www.jpl.nasa.gov/spaceimages/images/wallpaper/PIA23975-640x350.jpg\n",
      "https://www.jpl.nasa.gov/spaceimages/images/wallpaper/PIA23974-640x350.jpg\n",
      "https://www.jpl.nasa.gov/spaceimages/images/wallpaper/PIA23973-640x350.jpg\n"
     ]
    }
   ],
   "source": [
    "for picture in pictures:\n",
    "    print(picture.get_attribute('src'))"
   ]
  },
  {
   "cell_type": "code",
   "execution_count": null,
   "metadata": {},
   "outputs": [],
   "source": []
  }
 ],
 "metadata": {
  "kernelspec": {
   "display_name": "Python 3.6.10 64-bit ('PythonDataViz': conda)",
   "language": "python",
   "name": "python361064bitpythondatavizcondaed56fc30986a464784f8a472c80ebaf6"
  },
  "language_info": {
   "codemirror_mode": {
    "name": "ipython",
    "version": 3
   },
   "file_extension": ".py",
   "mimetype": "text/x-python",
   "name": "python",
   "nbconvert_exporter": "python",
   "pygments_lexer": "ipython3",
   "version": "3.6.10"
  }
 },
 "nbformat": 4,
 "nbformat_minor": 4
}
