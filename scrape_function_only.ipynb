{
 "cells": [
  {
   "cell_type": "code",
   "execution_count": 5,
   "metadata": {},
   "outputs": [],
   "source": [
    "#Dependencies\n",
    "from bs4 import BeautifulSoup\n",
    "import requests\n",
    "from splinter import Browser\n",
    "from selenium import webdriver\n",
    "from selenium.webdriver.common.keys import Keys\n",
    "import pandas as pd\n",
    "import time\n",
    "import pymongo"
   ]
  },
  {
   "cell_type": "code",
   "execution_count": 2,
   "metadata": {},
   "outputs": [],
   "source": [
    "#scraping the news\n",
    "news_url='https://mars.nasa.gov/news/?page=0&per_page=40&order=publish_date+desc%2Ccreated_at+desc&search=&category=19%2C165%2C184%2C204&blank_scope=Latest'\n",
    "response=requests.get(news_url)\n",
    "soup=BeautifulSoup(response.text,'html.parser')\n",
    "news_title=soup.find_all('div', class_='rollover_description_inner')[0].text\n",
    "news_title=news_title.split('\\n')\n",
    "news_title=news_title[1]\n",
    "\n",
    "news_p=soup.find_all('div', class_='content_title')[0].text\n",
    "news_p=news_p.split('\\n')\n",
    "news_p=news_p[2]"
   ]
  },
  {
   "cell_type": "code",
   "execution_count": 3,
   "metadata": {},
   "outputs": [],
   "source": [
    "#scraping featured image\n",
    "time.sleep(1)\n",
    "browser= webdriver.Chrome('chromedriver.exe')\n",
    "browser.get('https://www.jpl.nasa.gov/spaceimages/?search=&category=Mars')\n",
    "button=browser.find_element_by_link_text(\"FULL IMAGE\")\n",
    "button.click()\n",
    "pictures=browser.find_elements_by_tag_name('img')\n",
    "time.sleep(3)\n",
    "picture=browser.find_element_by_class_name(\"fancybox-image\")\n",
    "featured_image_url=picture.get_attribute('src')"
   ]
  },
  {
   "cell_type": "code",
   "execution_count": 4,
   "metadata": {},
   "outputs": [],
   "source": [
    "#get tweet\n",
    "time.sleep(1)\n",
    "browser= webdriver.Chrome('chromedriver.exe')\n",
    "browser.get('https://twitter.com/marswxreport?lang=en')\n",
    "tweet=browser.find_element_by_xpath('//*[@id=\"react-root\"]/div/div/div[2]/main/div/div/div/div/div/div/div/div/div[2]/section/div/div/div/div[1]/div/div/article/div/div/div/div[2]/div[2]/div[2]')\n",
    "mars_weather=tweet.text"
   ]
  },
  {
   "cell_type": "code",
   "execution_count": 5,
   "metadata": {},
   "outputs": [],
   "source": [
    "#get pandas table\n",
    "tables = pd.read_html('https://space-facts.com/mars/')\n",
    "df=tables[0]\n",
    "df.columns=['Record', 'Measurement']\n",
    "df.set_index('Record', inplace=True)\n",
    "html_table=df.to_html()"
   ]
  },
  {
   "cell_type": "code",
   "execution_count": 38,
   "metadata": {},
   "outputs": [],
   "source": [
    "#get images of hemispheres\n",
    "time.sleep(1)\n",
    "browser= webdriver.Chrome('chromedriver.exe')\n",
    "browser.get('https://astrogeology.usgs.gov/search/results?q=hemisphere+enhanced&k1=target&v1=Mars')\n",
    "links=browser.find_elements_by_class_name('itemLink')\n",
    "url_list=[]\n",
    "title_list=[]\n",
    "for link in links:\n",
    "    title=link.text\n",
    "    title_list.append(title)\n",
    "    url=(link.get_attribute('href'))\n",
    "    url_list.append(url)\n",
    "url_list=url_list[1::2]\n",
    "title_list=title_list[1::2]\n",
    "hemisphere_get_urls = {title_list[i]: url_list[i] for i in range(len(title_list))} "
   ]
  },
  {
   "cell_type": "code",
   "execution_count": 7,
   "metadata": {},
   "outputs": [],
   "source": [
    "#hemisphere_image_urls=[]\n",
    "#for url in hemisphere_get_urls.values():\n",
    "#    browser.get(url)\n",
    "#    button=browser.find_element_by_link_text(\"Sample\")\n",
    "#    button.click()\n",
    "#    picture=browser.find_element_by_tag_name('img')\n",
    "#    hemisphere_image=picture.get_attribute('src')\n",
    "#    hemisphere_image_urls.append(hemisphere_image)"
   ]
  },
  {
   "cell_type": "code",
   "execution_count": 41,
   "metadata": {},
   "outputs": [],
   "source": [
    "hemisphere_image_urls=[]\n",
    "temp_urls=[]\n",
    "values=hemisphere_get_urls.values()\n",
    "for value in values:\n",
    "    temp_urls.append(value)\n",
    "for url in temp_urls:\n",
    "    browser.get(url)\n",
    "    button=browser.find_element_by_link_text(\"Sample\")\n",
    "    button.click()\n",
    "    picture=browser.find_elements_by_tag_name('img')\n",
    "    for item in picture:\n",
    "        if \"full\" in item.get_attribute('src'):\n",
    "            hemisphere_image_urls.append((item.get_attribute('src')))\n"
   ]
  },
  {
   "cell_type": "code",
   "execution_count": 42,
   "metadata": {},
   "outputs": [
    {
     "data": {
      "text/plain": [
       "['https://astrogeology.usgs.gov/cache/images/f5e372a36edfa389625da6d0cc25d905_cerberus_enhanced.tif_full.jpg',\n",
       " 'https://astrogeology.usgs.gov/cache/images/3778f7b43bbbc89d6e3cfabb3613ba93_schiaparelli_enhanced.tif_full.jpg',\n",
       " 'https://astrogeology.usgs.gov/cache/images/555e6403a6ddd7ba16ddb0e471cadcf7_syrtis_major_enhanced.tif_full.jpg',\n",
       " 'https://astrogeology.usgs.gov/cache/images/b3c7c6c9138f57b4756be9b9c43e3a48_valles_marineris_enhanced.tif_full.jpg']"
      ]
     },
     "execution_count": 42,
     "metadata": {},
     "output_type": "execute_result"
    }
   ],
   "source": [
    "hemisphere_image_urls"
   ]
  },
  {
   "cell_type": "code",
   "execution_count": 17,
   "metadata": {},
   "outputs": [],
   "source": [
    "browser= webdriver.Chrome('chromedriver.exe')\n",
    "browser.get(temp_urls[0])\n",
    "button=browser.find_element_by_link_text(\"Sample\")\n",
    "button.click()"
   ]
  },
  {
   "cell_type": "code",
   "execution_count": 32,
   "metadata": {},
   "outputs": [],
   "source": [
    "picture=browser.find_elements_by_tag_name('img')"
   ]
  },
  {
   "cell_type": "code",
   "execution_count": 37,
   "metadata": {},
   "outputs": [
    {
     "name": "stdout",
     "output_type": "stream",
     "text": [
      "https://astrogeology.usgs.gov/cache/images/f5e372a36edfa389625da6d0cc25d905_cerberus_enhanced.tif_full.jpg\n"
     ]
    }
   ],
   "source": [
    "for item in picture:\n",
    "    if \"full\" in item.get_attribute('src'):\n",
    "        print(item.get_attribute('src'))"
   ]
  },
  {
   "cell_type": "code",
   "execution_count": 14,
   "metadata": {},
   "outputs": [],
   "source": [
    "scrape_dict={\"news_title\":news_title,\"featured_image_url\": featured_image_url, \"mars_weather\": mars_weather, \"html_table\": html_table, \"hemisphere_image_urls\":hemisphere_image_urls}"
   ]
  },
  {
   "cell_type": "code",
   "execution_count": 15,
   "metadata": {},
   "outputs": [],
   "source": [
    "conn='mongodb://localhost:27017'\n",
    "client=pymongo.MongoClient(conn)\n",
    "\n",
    "db=client.mars_db\n",
    "mars_info = db.mars\n",
    "db.mars.drop()"
   ]
  },
  {
   "cell_type": "code",
   "execution_count": 16,
   "metadata": {},
   "outputs": [
    {
     "data": {
      "text/plain": [
       "<pymongo.results.InsertOneResult at 0x1f72e555e48>"
      ]
     },
     "execution_count": 16,
     "metadata": {},
     "output_type": "execute_result"
    }
   ],
   "source": [
    "#dumps=json.dumps(scrape_dict)\n",
    "#load=json.loads(dumps)\n",
    "db.mars.insert_one(scrape_dict)"
   ]
  },
  {
   "cell_type": "code",
   "execution_count": 12,
   "metadata": {},
   "outputs": [
    {
     "data": {
      "text/plain": [
       "'https://astrogeology.usgs.gov/search/map/Mars/Viking/cerberus_enhanced'"
      ]
     },
     "execution_count": 12,
     "metadata": {},
     "output_type": "execute_result"
    }
   ],
   "source": [
    "hemisphere_image_urls['Cerberus Hemisphere Enhanced']"
   ]
  },
  {
   "cell_type": "code",
   "execution_count": null,
   "metadata": {},
   "outputs": [],
   "source": []
  }
 ],
 "metadata": {
  "kernelspec": {
   "display_name": "Python 3.6.10 64-bit ('PythonDataViz': conda)",
   "language": "python",
   "name": "python361064bitpythondatavizcondaed56fc30986a464784f8a472c80ebaf6"
  },
  "language_info": {
   "codemirror_mode": {
    "name": "ipython",
    "version": 3
   },
   "file_extension": ".py",
   "mimetype": "text/x-python",
   "name": "python",
   "nbconvert_exporter": "python",
   "pygments_lexer": "ipython3",
   "version": "3.6.10"
  }
 },
 "nbformat": 4,
 "nbformat_minor": 4
}
