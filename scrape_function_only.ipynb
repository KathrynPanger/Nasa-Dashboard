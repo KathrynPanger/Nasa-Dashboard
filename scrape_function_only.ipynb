{
 "cells": [
  {
   "cell_type": "code",
   "execution_count": 102,
   "metadata": {},
   "outputs": [],
   "source": [
    "#Dependencies\n",
    "from bs4 import BeautifulSoup\n",
    "import requests\n",
    "from splinter import Browser\n",
    "from selenium import webdriver\n",
    "from selenium.webdriver.common.keys import Keys\n",
    "import pandas as pd\n",
    "import time"
   ]
  },
  {
   "cell_type": "code",
   "execution_count": 58,
   "metadata": {},
   "outputs": [
    {
     "data": {
      "text/plain": [
       "\"The Launch Is Approaching for NASA's Next Mars Rover, Perseverance\""
      ]
     },
     "execution_count": 58,
     "metadata": {},
     "output_type": "execute_result"
    }
   ],
   "source": [
    "#scraping the news\n",
    "news_url='https://mars.nasa.gov/news/?page=0&per_page=40&order=publish_date+desc%2Ccreated_at+desc&search=&category=19%2C165%2C184%2C204&blank_scope=Latest'\n",
    "response=requests.get(news_url)\n",
    "soup=BeautifulSoup(response.text,'html.parser')\n",
    "news_title=soup.find_all('div', class_='rollover_description_inner')[0].text\n",
    "news_title=news_title.split('\\n')\n",
    "news_title=news_title[1]\n",
    "\n",
    "news_p=soup.find_all('div', class_='content_title')[0].text\n",
    "news_p=news_p.split('\\n')\n",
    "news_p=news_p[2]\n",
    "news_p"
   ]
  },
  {
   "cell_type": "code",
   "execution_count": 116,
   "metadata": {},
   "outputs": [],
   "source": [
    "#scraping featured image\n",
    "browser= webdriver.Chrome('chromedriver.exe')\n",
    "browser.get('https://www.jpl.nasa.gov/spaceimages/?search=&category=Mars')\n",
    "button=browser.find_element_by_link_text(\"FULL IMAGE\")\n",
    "button.click()\n",
    "pictures=browser.find_elements_by_tag_name('img')\n",
    "time.sleep(3)\n",
    "picture=browser.find_element_by_class_name(\"fancybox-image\")\n",
    "featured_image_url=picture.get_attribute('src')"
   ]
  },
  {
   "cell_type": "code",
   "execution_count": 117,
   "metadata": {},
   "outputs": [],
   "source": [
    "#get tweet\n",
    "browser= webdriver.Chrome('chromedriver.exe')\n",
    "browser.get('https://twitter.com/marswxreport?lang=en')\n",
    "tweet=browser.find_element_by_xpath('//*[@id=\"react-root\"]/div/div/div[2]/main/div/div/div/div/div/div/div/div/div[2]/section/div/div/div/div[1]/div/div/article/div/div/div/div[2]/div[2]/div[2]')\n",
    "mars_weather=tweet.text"
   ]
  },
  {
   "cell_type": "code",
   "execution_count": 120,
   "metadata": {},
   "outputs": [],
   "source": [
    "#get pandas table\n",
    "tables = pd.read_html('https://space-facts.com/mars/')\n",
    "df=tables[0]\n",
    "df.columns=['Record', 'Measurement']\n",
    "df.set_index('Record', inplace=True)\n",
    "html_table=df.to_html()"
   ]
  },
  {
   "cell_type": "code",
   "execution_count": 187,
   "metadata": {},
   "outputs": [],
   "source": [
    "#get images of hemispheres\n",
    "browser= webdriver.Chrome('chromedriver.exe')\n",
    "browser.get('https://astrogeology.usgs.gov/search/results?q=hemisphere+enhanced&k1=target&v1=Mars')\n",
    "links=browser.find_elements_by_class_name('itemLink')\n",
    "url_list=[]\n",
    "title_list=[]\n",
    "for link in links:\n",
    "    title=link.text\n",
    "    title_list.append(title)\n",
    "    url=(link.get_attribute('href'))\n",
    "    url_list.append(url)\n",
    "url_list=url_list[1::2]\n",
    "title_list=title_list[1::2]\n",
    "hemisphere_image_urls = {title_list[i]: url_list[i] for i in range(len(title_list))} "
   ]
  }
 ],
 "metadata": {
  "kernelspec": {
   "display_name": "Python 3.6.10 64-bit ('PythonDataViz': conda)",
   "language": "python",
   "name": "python361064bitpythondatavizcondaed56fc30986a464784f8a472c80ebaf6"
  },
  "language_info": {
   "codemirror_mode": {
    "name": "ipython",
    "version": 3
   },
   "file_extension": ".py",
   "mimetype": "text/x-python",
   "name": "python",
   "nbconvert_exporter": "python",
   "pygments_lexer": "ipython3",
   "version": "3.6.10"
  }
 },
 "nbformat": 4,
 "nbformat_minor": 4
}
